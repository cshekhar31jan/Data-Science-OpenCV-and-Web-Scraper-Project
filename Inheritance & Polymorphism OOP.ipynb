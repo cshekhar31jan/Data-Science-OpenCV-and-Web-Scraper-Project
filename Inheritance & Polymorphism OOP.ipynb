{
 "cells": [
  {
   "cell_type": "code",
   "execution_count": 1,
   "id": "c7915c41",
   "metadata": {},
   "outputs": [],
   "source": [
    "class users():\n",
    "    id=101\n",
    "    database=[]\n",
    "    count = 0\n",
    "    \n",
    "    def __init__(self,name,standard,age,qualified):\n",
    "        self.name=name\n",
    "        self.standard=standard\n",
    "        self.age=age\n",
    "        self.qualified=qualified\n",
    "        #adding extra variables\n",
    "        self.id=users.id\n",
    "        users.id+=1\n",
    "        users.database.append(self)\n",
    "        users.count+=1\n",
    "    def introduce(self):\n",
    "        print(\"Hi, My name is \", self.name, \"and I am currently studying in \",self.standard, \"standrard \")\n",
    "    def qualify(self):\n",
    "        if self.qualified==False:\n",
    "            self.qualified=True\n",
    "            print(self.name, \"has qualified\")\n",
    "        else:\n",
    "            print(\"{} is already qualified.\".format(self.name))\n",
    "    def disqualify(self):\n",
    "        if self.qualified:\n",
    "            self.qualified=False\n",
    "            print(self.name, \"has been disqualified\")\n",
    "        else:\n",
    "            print(\"{} is already disqualified.\".format(self.name))\n",
    "    def __repr__(self):\n",
    "        return \"[{},{},{},{}]\".format(self.name,self.standard,self.id,self.qualified)\n",
    "        "
   ]
  },
  {
   "cell_type": "code",
   "execution_count": 2,
   "id": "3ffd6c20",
   "metadata": {
    "scrolled": false
   },
   "outputs": [],
   "source": [
    "#u1= users(\"Raj\",10,19,True)\n",
    "#print(u1)"
   ]
  },
  {
   "cell_type": "code",
   "execution_count": 3,
   "id": "086a4229",
   "metadata": {},
   "outputs": [],
   "source": [
    "#child class\n",
    "class qualifier(users):\n",
    "    \n",
    "    #constructor\n",
    "    def __init__(self, name, standard, age ,qualified):\n",
    "        super().__init__(name, standard, age , qualified)\n",
    "        \n",
    "        #instead of super() , I could have also done assignement of each variable one by one, but\n",
    "        #super() lets us skip that repeatitive work.\n",
    "        \n",
    "        #additional properties of good students which can be added \n",
    "        self.students_qualified =0\n",
    "        self.qualified_list = []\n",
    "    def qualify(self, student):\n",
    "        \"\"\"\n",
    "        here, student will not be the name of student rather it will be \n",
    "        object name of taht student which will be an object of users class.\n",
    "        \"\"\"\n",
    "        if student.qualified==False:\n",
    "            student.qualify()\n",
    "            self.students_qualified+=1\n",
    "            self.qualified_list.append(student)\n",
    "            print(\"{} has been made qualified by {}\".format(student.name,self.name))\n",
    "        else:\n",
    "            print(\"{} is already qualified\".format(student.name))\n",
    "    #example of polymorphism given below:\n",
    "    #function overriding\n",
    "    def introduce(self):\n",
    "        print(\"Hi, my name is {}, I've qualified {} students\".format(self.name, self.students_qualified))"
   ]
  },
  {
   "cell_type": "code",
   "execution_count": 4,
   "id": "e10e3997",
   "metadata": {},
   "outputs": [],
   "source": [
    "u1= users(\"Akarsh\", 9, 18, False)\n",
    "u2= users(\"Aman\", 9, 19, True)\n",
    "u3= users(\"Anup\", 10, 20, False)"
   ]
  },
  {
   "cell_type": "code",
   "execution_count": 5,
   "id": "4f3dd3c7",
   "metadata": {},
   "outputs": [
    {
     "data": {
      "text/plain": [
       "3"
      ]
     },
     "execution_count": 5,
     "metadata": {},
     "output_type": "execute_result"
    }
   ],
   "source": [
    "users.count"
   ]
  },
  {
   "cell_type": "code",
   "execution_count": 6,
   "id": "9e756ea5",
   "metadata": {},
   "outputs": [
    {
     "data": {
      "text/plain": [
       "[[Akarsh,9,101,False], [Aman,9,102,True], [Anup,10,103,False]]"
      ]
     },
     "execution_count": 6,
     "metadata": {},
     "output_type": "execute_result"
    }
   ],
   "source": [
    "users.database"
   ]
  },
  {
   "cell_type": "code",
   "execution_count": 7,
   "id": "8ea26c6e",
   "metadata": {},
   "outputs": [],
   "source": [
    "teacher = qualifier(\"Dhoni\", 12, 38, True)"
   ]
  },
  {
   "cell_type": "code",
   "execution_count": 8,
   "id": "7bbb63b9",
   "metadata": {},
   "outputs": [
    {
     "data": {
      "text/plain": [
       "4"
      ]
     },
     "execution_count": 8,
     "metadata": {},
     "output_type": "execute_result"
    }
   ],
   "source": [
    "users.count"
   ]
  },
  {
   "cell_type": "code",
   "execution_count": 9,
   "id": "32dd395c",
   "metadata": {},
   "outputs": [
    {
     "data": {
      "text/plain": [
       "[[Akarsh,9,101,False],\n",
       " [Aman,9,102,True],\n",
       " [Anup,10,103,False],\n",
       " [Dhoni,12,104,True]]"
      ]
     },
     "execution_count": 9,
     "metadata": {},
     "output_type": "execute_result"
    }
   ],
   "source": [
    "users.database"
   ]
  },
  {
   "cell_type": "code",
   "execution_count": 10,
   "id": "78c4563b",
   "metadata": {},
   "outputs": [
    {
     "name": "stdout",
     "output_type": "stream",
     "text": [
      "Akarsh has qualified\n",
      "Akarsh has been made qualified by Dhoni\n"
     ]
    }
   ],
   "source": [
    "teacher.qualify(u1)"
   ]
  },
  {
   "cell_type": "code",
   "execution_count": 11,
   "id": "9c5a24b2",
   "metadata": {},
   "outputs": [
    {
     "name": "stdout",
     "output_type": "stream",
     "text": [
      "Hi, my name is Dhoni, I've qualified 1 students\n"
     ]
    }
   ],
   "source": [
    "teacher.introduce()"
   ]
  },
  {
   "cell_type": "code",
   "execution_count": null,
   "id": "9d1fd257",
   "metadata": {},
   "outputs": [],
   "source": []
  }
 ],
 "metadata": {
  "kernelspec": {
   "display_name": "Python 3",
   "language": "python",
   "name": "python3"
  },
  "language_info": {
   "codemirror_mode": {
    "name": "ipython",
    "version": 3
   },
   "file_extension": ".py",
   "mimetype": "text/x-python",
   "name": "python",
   "nbconvert_exporter": "python",
   "pygments_lexer": "ipython3",
   "version": "3.10.0"
  }
 },
 "nbformat": 4,
 "nbformat_minor": 5
}
