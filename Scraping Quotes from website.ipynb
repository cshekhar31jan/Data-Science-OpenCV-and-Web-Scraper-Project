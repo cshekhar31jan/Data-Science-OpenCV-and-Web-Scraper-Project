{
 "cells": [
  {
   "cell_type": "markdown",
   "metadata": {},
   "source": [
    "Website url : www.passiton.com/inspirational-quotes"
   ]
  },
  {
   "cell_type": "code",
   "execution_count": 1,
   "metadata": {},
   "outputs": [],
   "source": [
    "import requests\n",
    "import bs4"
   ]
  },
  {
   "cell_type": "code",
   "execution_count": 2,
   "metadata": {},
   "outputs": [],
   "source": [
    "url = \"https://www.passiton.com/inspirational-quotes\""
   ]
  },
  {
   "cell_type": "code",
   "execution_count": 3,
   "metadata": {},
   "outputs": [],
   "source": [
    "res = requests.get(url)"
   ]
  },
  {
   "cell_type": "code",
   "execution_count": 4,
   "metadata": {},
   "outputs": [
    {
     "data": {
      "text/plain": [
       "200"
      ]
     },
     "execution_count": 4,
     "metadata": {},
     "output_type": "execute_result"
    }
   ],
   "source": [
    "res.status_code"
   ]
  },
  {
   "cell_type": "markdown",
   "metadata": {},
   "source": [
    "res.content will be actually same as the code which you will get when you will inspect the page. and BeatifulSoup just beautifies that code"
   ]
  },
  {
   "cell_type": "code",
   "execution_count": 5,
   "metadata": {},
   "outputs": [],
   "source": [
    "url_binary_data = res.content"
   ]
  },
  {
   "cell_type": "code",
   "execution_count": 6,
   "metadata": {},
   "outputs": [],
   "source": [
    "soup= bs4.BeautifulSoup(url_binary_data, 'html.parser')"
   ]
  },
  {
   "cell_type": "markdown",
   "metadata": {},
   "source": [
    "# Most Important part is to understnd the structure of website :"
   ]
  },
  {
   "cell_type": "code",
   "execution_count": 7,
   "metadata": {},
   "outputs": [
    {
     "data": {
      "text/plain": [
       "36"
      ]
     },
     "execution_count": 7,
     "metadata": {},
     "output_type": "execute_result"
    }
   ],
   "source": [
    "imgs = soup.find_all('img')\n",
    "len(imgs)"
   ]
  },
  {
   "cell_type": "markdown",
   "metadata": {},
   "source": [
    "So, you would have noticed that img tags will not gives out all the images so, look for other things."
   ]
  },
  {
   "cell_type": "markdown",
   "metadata": {},
   "source": [
    "You Will find that there is a div which contain all quotes on the page and id of that div is \"all_quotes\".So,look for it .\n",
    "\n",
    "And You also know that id of a div is unique."
   ]
  },
  {
   "cell_type": "code",
   "execution_count": 8,
   "metadata": {},
   "outputs": [],
   "source": [
    "box = soup.find(\"div\", attrs= {\"id\" : \"all_quotes\"})\n"
   ]
  },
  {
   "cell_type": "code",
   "execution_count": 9,
   "metadata": {},
   "outputs": [
    {
     "data": {
      "text/plain": [
       "<div class=\"row\" id=\"all_quotes\">\n",
       "<div class=\"col-6 col-lg-4 text-center margin-30px-bottom sm-margin-30px-top\">\n",
       "<a href=\"/inspirational-quotes/6345-one-kind-word-can-warm-three-winter-months\"><img alt=\"One kind word can warm three winter months. #&lt;Author:0x00007f47dd82a650&gt;\" class=\"margin-10px-bottom shadow\" height=\"310\" src=\"https://assets.passiton.com/quotes/quote_artwork/6345/medium/20220325_friday_quote.jpg?1647621314\" width=\"310\"/></a>\n",
       "<h5 class=\"value_on_red\"><a href=\"/inspirational-quotes/6345-one-kind-word-can-warm-three-winter-months\">KINDNESS</a></h5>\n",
       "</div><div class=\"col-6 col-lg-4 text-center margin-30px-bottom sm-margin-30px-top\">\n",
       "<a href=\"/inspirational-quotes/4228-good-words-bring-good-feelings-to-the-heart\"><img alt=\"Good words bring good feelings to the heart. Speak with kindness, always.  #&lt;Author:0x00007f47dd8525b0&gt;\" class=\"margin-10px-bottom shadow\" height=\"310\" src=\"https://assets.passiton.com/quotes/quote_artwork/4228/medium/20220324_thursday_quote.jpg?1647621286\" width=\"310\"/></a>\n",
       "<h5 class=\"value_on_red\"><a href=\"/inspirational-quotes/4228-good-words-bring-good-feelings-to-the-heart\">KINDNESS</a></h5>\n",
       "</div><div class=\"col-6 col-lg-4 text-center margin-30px-bottom sm-margin-30px-top\">\n",
       "<a href=\"/inspirational-quotes/7839-that-s-what-kindness-is-it-s-not-doing\"><img alt=\"That’s what kindness is. It’s not doing something for someone else because they can’t, but because you can. #&lt;Author:0x00007f47dd89f338&gt;\" class=\"margin-10px-bottom shadow\" height=\"310\" src=\"https://assets.passiton.com/quotes/quote_artwork/7839/medium/20220323_wednesday_quote.jpg?1647621257\" width=\"310\"/></a>\n",
       "<h5 class=\"value_on_red\"><a href=\"/inspirational-quotes/7839-that-s-what-kindness-is-it-s-not-doing\">KINDNESS</a></h5>\n",
       "</div><div class=\"col-6 col-lg-4 text-center margin-30px-bottom sm-margin-30px-top\">\n",
       "<a href=\"/inspirational-quotes/7084-carry-out-a-random-act-of-kindness-with-no\"><img alt=\"Carry out a random act of kindness, with no expectation of reward, safe in the knowledge that one day someone might do the same for you. #&lt;Author:0x00007f47dd8c4fe8&gt;\" class=\"margin-10px-bottom shadow\" height=\"310\" src=\"https://assets.passiton.com/quotes/quote_artwork/7084/medium/20220322_tuesday_quote.jpg?1647621234\" width=\"310\"/></a>\n",
       "<h5 class=\"value_on_red\"><a href=\"/inspirational-quotes/7084-carry-out-a-random-act-of-kindness-with-no\">KINDNESS</a></h5>\n",
       "</div><div class=\"col-6 col-lg-4 text-center margin-30px-bottom sm-margin-30px-top\">\n",
       "<a href=\"/inspirational-quotes/8317-what-wisdom-can-you-find-that-is-greater-than\"><img alt=\"What wisdom can you find that is greater than kindness? #&lt;Author:0x00007f47dd9179a0&gt;\" class=\"margin-10px-bottom shadow\" height=\"310\" src=\"https://assets.passiton.com/quotes/quote_artwork/8317/medium/20220321_monday_quote.jpg?1647621206\" width=\"310\"/></a>\n",
       "<h5 class=\"value_on_red\"><a href=\"/inspirational-quotes/8317-what-wisdom-can-you-find-that-is-greater-than\">KINDNESS</a></h5>\n",
       "</div><div class=\"col-6 col-lg-4 text-center margin-30px-bottom sm-margin-30px-top\">\n",
       "<a href=\"/inspirational-quotes/8315-do-not-judge-me-by-my-success-judge-me-by-how\"><img alt=\"Do not judge me by my success, judge me by how many times I fell down and got back up again. #&lt;Author:0x00007f47dd940f08&gt;\" class=\"margin-10px-bottom shadow\" height=\"310\" src=\"https://assets.passiton.com/quotes/quote_artwork/8315/medium/20220317_thursday_quote.jpg?1646943263\" width=\"310\"/></a>\n",
       "<h5 class=\"value_on_red\"><a href=\"/inspirational-quotes/8315-do-not-judge-me-by-my-success-judge-me-by-how\">RESILIENCY</a></h5>\n",
       "</div><div class=\"col-6 col-lg-4 text-center margin-30px-bottom sm-margin-30px-top\">\n",
       "<a href=\"/inspirational-quotes/8314-life-doesn-t-get-easier-or-more-forgiving-we\"><img alt=\"Life doesn’t get easier or more forgiving, we get stronger and more resilient. #&lt;Author:0x00007f47dd97b7e8&gt;\" class=\"margin-10px-bottom shadow\" height=\"310\" src=\"https://assets.passiton.com/quotes/quote_artwork/8314/medium/20220316_wednesday_quote.jpg?1646943237\" width=\"310\"/></a>\n",
       "<h5 class=\"value_on_red\"><a href=\"/inspirational-quotes/8314-life-doesn-t-get-easier-or-more-forgiving-we\">RESILIENCY</a></h5>\n",
       "</div><div class=\"col-6 col-lg-4 text-center margin-30px-bottom sm-margin-30px-top\">\n",
       "<a href=\"/inspirational-quotes/5908-when-i-dare-to-be-powerful-to-use-my-strength\"><img alt=\"When I dare to be powerful to use my strength in the service of my vision then it becomes less and less important whether I am afraid. #&lt;Author:0x00007f47dd9ac438&gt;\" class=\"margin-10px-bottom shadow\" height=\"310\" src=\"https://assets.passiton.com/quotes/quote_artwork/5908/medium/20220315_tuesday_quote.jpg?1646943211\" width=\"310\"/></a>\n",
       "<h5 class=\"value_on_red\"><a href=\"/inspirational-quotes/5908-when-i-dare-to-be-powerful-to-use-my-strength\">RESILIENCY</a></h5>\n",
       "</div><div class=\"col-6 col-lg-4 text-center margin-30px-bottom sm-margin-30px-top\">\n",
       "<a href=\"/inspirational-quotes/8313-like-tiny-seeds-with-potent-power-to-push\"><img alt=\"Like tiny seeds with potent power to push through tough ground and become mighty trees, we hold innate reserves of unimaginable strength. We are resilient. #&lt;Author:0x00007f47dd9ec420&gt;\" class=\"margin-10px-bottom shadow\" height=\"310\" src=\"https://assets.passiton.com/quotes/quote_artwork/8313/medium/20220314_monday_quote.jpg?1646943182\" width=\"310\"/></a>\n",
       "<h5 class=\"value_on_red\"><a href=\"/inspirational-quotes/8313-like-tiny-seeds-with-potent-power-to-push\">RESILIENCY</a></h5>\n",
       "</div><div class=\"col-6 col-lg-4 text-center margin-30px-bottom sm-margin-30px-top\">\n",
       "<a href=\"/inspirational-quotes/3571-when-the-power-of-love-overcomes-the-love-of\"><img alt=\"When the power of love overcomes the love of power the world will know peace. #&lt;Author:0x00007f47dda293e8&gt;\" class=\"margin-10px-bottom shadow\" height=\"310\" src=\"https://assets.passiton.com/quotes/quote_artwork/3571/medium/20220311_friday_quote.jpg?1646441674\" width=\"310\"/></a>\n",
       "<h5 class=\"value_on_red\"><a href=\"/inspirational-quotes/3571-when-the-power-of-love-overcomes-the-love-of\">PEACE</a></h5>\n",
       "</div><div class=\"col-6 col-lg-4 text-center margin-30px-bottom sm-margin-30px-top\">\n",
       "<a href=\"/inspirational-quotes/8312-peace-is-a-day-to-day-problem-the-product-of-a\"><img alt=\"Peace is a day-to-day problem, the product of a multitude of events and judgments. Peace is not an ‘is,’ it is a ‘becoming.’ #&lt;Author:0x00007f47dda5c608&gt;\" class=\"margin-10px-bottom shadow\" height=\"310\" src=\"https://assets.passiton.com/quotes/quote_artwork/8312/medium/20220310_thursday_quote.jpg?1646441651\" width=\"310\"/></a>\n",
       "<h5 class=\"value_on_red\"><a href=\"/inspirational-quotes/8312-peace-is-a-day-to-day-problem-the-product-of-a\">PEACE</a></h5>\n",
       "</div><div class=\"col-6 col-lg-4 text-center margin-30px-bottom sm-margin-30px-top\">\n",
       "<a href=\"/inspirational-quotes/8311-inner-peace-doesn-t-come-from-getting-what-we\"><img alt=\"Inner peace doesn’t come from getting what we want, but from remembering who we are. #&lt;Author:0x00007f47dda91b78&gt;\" class=\"margin-10px-bottom shadow\" height=\"310\" src=\"https://assets.passiton.com/quotes/quote_artwork/8311/medium/20220309_wednesday_quote.jpg?1646441627\" width=\"310\"/></a>\n",
       "<h5 class=\"value_on_red\"><a href=\"/inspirational-quotes/8311-inner-peace-doesn-t-come-from-getting-what-we\">PEACE</a></h5>\n",
       "</div><div class=\"col-6 col-lg-4 text-center margin-30px-bottom sm-margin-30px-top\">\n",
       "<a href=\"/inspirational-quotes/8310-peace-is-its-own-reward\"><img alt=\"Peace is its own reward. #&lt;Author:0x00007f47ddac3268&gt;\" class=\"margin-10px-bottom shadow\" height=\"310\" src=\"https://assets.passiton.com/quotes/quote_artwork/8310/medium/20220308_tuesday_quote.jpg?1646441607\" width=\"310\"/></a>\n",
       "<h5 class=\"value_on_red\"><a href=\"/inspirational-quotes/8310-peace-is-its-own-reward\">PEACE</a></h5>\n",
       "</div><div class=\"col-6 col-lg-4 text-center margin-30px-bottom sm-margin-30px-top\">\n",
       "<a href=\"/inspirational-quotes/7582-it-isn-t-enough-to-talk-about-peace-one-must\"><img alt=\"It isn’t enough to talk about peace. One must believe in it. And it isn’t enough to believe in it. One must work at it. #&lt;Author:0x00007f47ddaeaae8&gt;\" class=\"margin-10px-bottom shadow\" height=\"310\" src=\"https://assets.passiton.com/quotes/quote_artwork/7582/medium/20220307_monday_quote.jpg?1646441583\" width=\"310\"/></a>\n",
       "<h5 class=\"value_on_red\"><a href=\"/inspirational-quotes/7582-it-isn-t-enough-to-talk-about-peace-one-must\">PEACE</a></h5>\n",
       "</div><div class=\"col-6 col-lg-4 text-center margin-30px-bottom sm-margin-30px-top\">\n",
       "<a href=\"/inspirational-quotes/8308-optimism-is-a-strategy-for-making-a-better\"><img alt=\"Optimism is a strategy for making a better future. Because unless you believe that the future can be better, you are unlikely to step up and take responsibility for making it so. #&lt;Author:0x00007f47ddb39aa8&gt;\" class=\"margin-10px-bottom shadow\" height=\"310\" src=\"https://assets.passiton.com/quotes/quote_artwork/8308/medium/20220304_friday_quote.jpg?1645735897\" width=\"310\"/></a>\n",
       "<h5 class=\"value_on_red\"><a href=\"/inspirational-quotes/8308-optimism-is-a-strategy-for-making-a-better\">OPTIMISM</a></h5>\n",
       "</div><div class=\"col-6 col-lg-4 text-center margin-30px-bottom sm-margin-30px-top\">\n",
       "<a href=\"/inspirational-quotes/7376-and-you-ask-what-if-i-fall-quot-oh-but-my\"><img alt='And you ask “what if I fall?\" Oh but my darling, what if you fly?” #&lt;Author:0x00007f47ddb62ca0&gt;' class=\"margin-10px-bottom shadow\" height=\"310\" src=\"https://assets.passiton.com/quotes/quote_artwork/7376/medium/20220303_thursday_quote.jpg?1645735873\" width=\"310\"/></a>\n",
       "<h5 class=\"value_on_red\"><a href=\"/inspirational-quotes/7376-and-you-ask-what-if-i-fall-quot-oh-but-my\">OPTIMISM</a></h5>\n",
       "</div><div class=\"col-6 col-lg-4 text-center margin-30px-bottom sm-margin-30px-top\">\n",
       "<a href=\"/inspirational-quotes/8309-it-s-not-that-optimism-solves-all-of-life-s\"><img alt=\"It’s not that optimism solves all of life’s problems; it is just that it can sometimes make the difference between coping and collapsing.  #&lt;Author:0x00007f47ddb88f18&gt;\" class=\"margin-10px-bottom shadow\" height=\"310\" src=\"https://assets.passiton.com/quotes/quote_artwork/8309/medium/20220302_wednesday_quote.jpg?1645735819\" width=\"310\"/></a>\n",
       "<h5 class=\"value_on_red\"><a href=\"/inspirational-quotes/8309-it-s-not-that-optimism-solves-all-of-life-s\">OPTIMISM</a></h5>\n",
       "</div><div class=\"col-6 col-lg-4 text-center margin-30px-bottom sm-margin-30px-top\">\n",
       "<a href=\"/inspirational-quotes/4506-perpetual-optimism-is-a-force-multiplier\"><img alt=\"Perpetual optimism is a force multiplier. #&lt;Author:0x00007f47ddbba2c0&gt;\" class=\"margin-10px-bottom shadow\" height=\"310\" src=\"https://assets.passiton.com/quotes/quote_artwork/4506/medium/20220301_tuesday_quote.jpg?1645735741\" width=\"310\"/></a>\n",
       "<h5 class=\"value_on_red\"><a href=\"/inspirational-quotes/4506-perpetual-optimism-is-a-force-multiplier\">OPTIMISM</a></h5>\n",
       "</div><div class=\"col-6 col-lg-4 text-center margin-30px-bottom sm-margin-30px-top\">\n",
       "<a href=\"/inspirational-quotes/7017-no-pessimist-ever-discovered-the-secrets-of-the\"><img alt=\"No pessimist ever discovered the secrets of the stars, or sailed to an uncharted land, or opened a new heaven to the horizon of the spirit. #&lt;Author:0x00007f47ddbebca8&gt;\" class=\"margin-10px-bottom shadow\" height=\"310\" src=\"https://assets.passiton.com/quotes/quote_artwork/7017/medium/20220228_monday_quote.jpg?1645735715\" width=\"310\"/></a>\n",
       "<h5 class=\"value_on_red\"><a href=\"/inspirational-quotes/7017-no-pessimist-ever-discovered-the-secrets-of-the\">OPTIMISM</a></h5>\n",
       "</div><div class=\"col-6 col-lg-4 text-center margin-30px-bottom sm-margin-30px-top\">\n",
       "<a href=\"/inspirational-quotes/8307-stay-afraid-but-do-it-anyway-what-s-important\"><img alt=\"Stay afraid, but do it anyway. What’s important is the action. You don’t have to wait to be confident. Just do it and eventually the confidence will follow.  #&lt;Author:0x00007f47ddc17790&gt;\" class=\"margin-10px-bottom shadow\" height=\"310\" src=\"https://assets.passiton.com/quotes/quote_artwork/8307/medium/20220225_friday_quote.jpg?1645297510\" width=\"310\"/></a>\n",
       "<h5 class=\"value_on_red\"><a href=\"/inspirational-quotes/8307-stay-afraid-but-do-it-anyway-what-s-important\">CONFIDENCE</a></h5>\n",
       "</div><div class=\"col-6 col-lg-4 text-center margin-30px-bottom sm-margin-30px-top\">\n",
       "<a href=\"/inspirational-quotes/7199-one-must-have-the-adventurous-daring-to-accept\"><img alt=\"One must have the adventurous daring to accept oneself as a bundle of possibilities and undertake the most interesting game in the world - making the most of one's best. #&lt;Author:0x00007f47ddc3db98&gt;\" class=\"margin-10px-bottom shadow\" height=\"310\" src=\"https://assets.passiton.com/quotes/quote_artwork/7199/medium/20220224_thursday_quote.jpg?1645297484\" width=\"310\"/></a>\n",
       "<h5 class=\"value_on_red\"><a href=\"/inspirational-quotes/7199-one-must-have-the-adventurous-daring-to-accept\">CONFIDENCE</a></h5>\n",
       "</div><div class=\"col-6 col-lg-4 text-center margin-30px-bottom sm-margin-30px-top\">\n",
       "<a href=\"/inspirational-quotes/8306-be-proud-to-wear-you\"><img alt=\"Be proud to wear you. #&lt;Author:0x00007f47ddc6c1f0&gt;\" class=\"margin-10px-bottom shadow\" height=\"310\" src=\"https://assets.passiton.com/quotes/quote_artwork/8306/medium/20220223_wednesday_quote.jpg?1645297454\" width=\"310\"/></a>\n",
       "<h5 class=\"value_on_red\"><a href=\"/inspirational-quotes/8306-be-proud-to-wear-you\">CONFIDENCE</a></h5>\n",
       "</div><div class=\"col-6 col-lg-4 text-center margin-30px-bottom sm-margin-30px-top\">\n",
       "<a href=\"/inspirational-quotes/3472-i-was-always-looking-outside-myself-for\"><img alt=\"I was always looking outside myself for strength and confidence but it comes from within. It is there all the time. #&lt;Author:0x00007f47ddca0270&gt;\" class=\"margin-10px-bottom shadow\" height=\"310\" src=\"https://assets.passiton.com/quotes/quote_artwork/3472/medium/20220222_tuesday_quote.jpg?1645297430\" width=\"310\"/></a>\n",
       "<h5 class=\"value_on_red\"><a href=\"/inspirational-quotes/3472-i-was-always-looking-outside-myself-for\">CONFIDENCE</a></h5>\n",
       "</div><div class=\"col-6 col-lg-4 text-center margin-30px-bottom sm-margin-30px-top\">\n",
       "<a href=\"/inspirational-quotes/6990-every-small-positive-change-we-make-in\"><img alt=\"Every small positive change we make in ourselves repays us in confidence in the future. #&lt;Author:0x00007f47ddcc7b40&gt;\" class=\"margin-10px-bottom shadow\" height=\"310\" src=\"https://assets.passiton.com/quotes/quote_artwork/6990/medium/20220221_monday_quote.jpg?1645297400\" width=\"310\"/></a>\n",
       "<h5 class=\"value_on_red\"><a href=\"/inspirational-quotes/6990-every-small-positive-change-we-make-in\">CONFIDENCE</a></h5>\n",
       "</div><div class=\"col-6 col-lg-4 text-center margin-30px-bottom sm-margin-30px-top\">\n",
       "<a href=\"/inspirational-quotes/8305-love-does-not-dominate-it-cultivates\"><img alt=\"Love does not dominate; it cultivates. #&lt;Author:0x00007f47ddce57f8&gt;\" class=\"margin-10px-bottom shadow\" height=\"310\" src=\"https://assets.passiton.com/quotes/quote_artwork/8305/medium/20220218_friday_quote.jpg?1644611843\" width=\"310\"/></a>\n",
       "<h5 class=\"value_on_red\"><a href=\"/inspirational-quotes/8305-love-does-not-dominate-it-cultivates\">LOVE</a></h5>\n",
       "</div><div class=\"col-6 col-lg-4 text-center margin-30px-bottom sm-margin-30px-top\">\n",
       "<a href=\"/inspirational-quotes/6753-there-is-nothing-i-would-not-do-for-those-who\"><img alt=\"There is nothing I would not do for those who are really my friends. I have no notion of loving people by halves, it is not my nature. #&lt;Author:0x00007f47ddd19b70&gt;\" class=\"margin-10px-bottom shadow\" height=\"310\" src=\"https://assets.passiton.com/quotes/quote_artwork/6753/medium/20220217_thursday_quote.jpg?1644611821\" width=\"310\"/></a>\n",
       "<h5 class=\"value_on_red\"><a href=\"/inspirational-quotes/6753-there-is-nothing-i-would-not-do-for-those-who\">LOVE</a></h5>\n",
       "</div><div class=\"col-6 col-lg-4 text-center margin-30px-bottom sm-margin-30px-top\">\n",
       "<a href=\"/inspirational-quotes/7685-love-in-action-is-service\"><img alt=\"Love in action is service. #&lt;Author:0x00007f47ddd5a670&gt;\" class=\"margin-10px-bottom shadow\" height=\"310\" src=\"https://assets.passiton.com/quotes/quote_artwork/7685/medium/20220216_wednesday_quote.jpg?1644611788\" width=\"310\"/></a>\n",
       "<h5 class=\"value_on_red\"><a href=\"/inspirational-quotes/7685-love-in-action-is-service\">LOVE</a></h5>\n",
       "</div><div class=\"col-6 col-lg-4 text-center margin-30px-bottom sm-margin-30px-top\">\n",
       "<a href=\"/inspirational-quotes/7444-where-there-is-love-there-is-life\"><img alt=\"Where there is love there is life. #&lt;Author:0x00007f47ddd8b9c8&gt;\" class=\"margin-10px-bottom shadow\" height=\"310\" src=\"https://assets.passiton.com/quotes/quote_artwork/7444/medium/20220215_tuesday_quote_alternate.jpg?1644612053\" width=\"310\"/></a>\n",
       "<h5 class=\"value_on_red\"><a href=\"/inspirational-quotes/7444-where-there-is-love-there-is-life\">LOVE</a></h5>\n",
       "</div><div class=\"col-6 col-lg-4 text-center margin-30px-bottom sm-margin-30px-top\">\n",
       "<a href=\"/inspirational-quotes/7439-at-the-touch-of-love-everyone-becomes-a-poet\"><img alt=\"At the touch of love everyone becomes a poet. #&lt;Author:0x00007f47dddbcc30&gt;\" class=\"margin-10px-bottom shadow\" height=\"310\" src=\"https://assets.passiton.com/quotes/quote_artwork/7439/medium/20220214_monday_quote.jpg?1644611729\" width=\"310\"/></a>\n",
       "<h5 class=\"value_on_red\"><a href=\"/inspirational-quotes/7439-at-the-touch-of-love-everyone-becomes-a-poet\">LOVE</a></h5>\n",
       "</div><div class=\"col-6 col-lg-4 text-center margin-30px-bottom sm-margin-30px-top\">\n",
       "<a href=\"/inspirational-quotes/8304-a-friend-may-be-waiting-behind-a-stranger-s-face\"><img alt=\"A friend may be waiting behind a stranger’s face. #&lt;Author:0x00007f47dddf2538&gt;\" class=\"margin-10px-bottom shadow\" height=\"310\" src=\"https://assets.passiton.com/quotes/quote_artwork/8304/medium/20220211_friday_quote_updated.jpg?1644000491\" width=\"310\"/></a>\n",
       "<h5 class=\"value_on_red\"><a href=\"/inspirational-quotes/8304-a-friend-may-be-waiting-behind-a-stranger-s-face\">FRIENDSHIP</a></h5>\n",
       "</div><div class=\"col-6 col-lg-4 text-center margin-30px-bottom sm-margin-30px-top\">\n",
       "<a href=\"/inspirational-quotes/3331-wherever-we-are-it-is-our-friends-that-make\"><img alt=\"Wherever we are, it is our friends that make our world. #&lt;Author:0x00007f47dde185d0&gt;\" class=\"margin-10px-bottom shadow\" height=\"310\" src=\"https://assets.passiton.com/quotes/quote_artwork/3331/medium/20220210_thursday_quote_updated.jpg?1644000474\" width=\"310\"/></a>\n",
       "<h5 class=\"value_on_red\"><a href=\"/inspirational-quotes/3331-wherever-we-are-it-is-our-friends-that-make\">FRIENDSHIP</a></h5>\n",
       "</div><div class=\"col-6 col-lg-4 text-center margin-30px-bottom sm-margin-30px-top\">\n",
       "<a href=\"/inspirational-quotes/8303-find-a-group-of-people-who-challenge-and\"><img alt=\"Find a group of people who challenge and inspire you; spend a lot of time with them, and it will change your life. #&lt;Author:0x00007f47dde54620&gt;\" class=\"margin-10px-bottom shadow\" height=\"310\" src=\"https://assets.passiton.com/quotes/quote_artwork/8303/medium/20220209_wednesday_quote_updated.jpg?1644000457\" width=\"310\"/></a>\n",
       "<h5 class=\"value_on_red\"><a href=\"/inspirational-quotes/8303-find-a-group-of-people-who-challenge-and\">FRIENDSHIP</a></h5>\n",
       "</div>\n",
       "</div>"
      ]
     },
     "execution_count": 9,
     "metadata": {},
     "output_type": "execute_result"
    }
   ],
   "source": [
    "box"
   ]
  },
  {
   "cell_type": "code",
   "execution_count": 10,
   "metadata": {},
   "outputs": [
    {
     "data": {
      "text/plain": [
       "34"
      ]
     },
     "execution_count": 10,
     "metadata": {},
     "output_type": "execute_result"
    }
   ],
   "source": [
    "len(box)"
   ]
  },
  {
   "cell_type": "code",
   "execution_count": 16,
   "metadata": {},
   "outputs": [],
   "source": [
    "imgs= box.find_all(\"img\")"
   ]
  },
  {
   "cell_type": "code",
   "execution_count": 17,
   "metadata": {},
   "outputs": [
    {
     "data": {
      "text/plain": [
       "32"
      ]
     },
     "execution_count": 17,
     "metadata": {},
     "output_type": "execute_result"
    }
   ],
   "source": [
    "len(imgs)"
   ]
  },
  {
   "cell_type": "code",
   "execution_count": 18,
   "metadata": {},
   "outputs": [
    {
     "data": {
      "text/plain": [
       "{'alt': 'One kind word can warm three winter months. #<Author:0x00007f47dd82a650>',\n",
       " 'class': ['margin-10px-bottom', 'shadow'],\n",
       " 'src': 'https://assets.passiton.com/quotes/quote_artwork/6345/medium/20220325_friday_quote.jpg?1647621314',\n",
       " 'width': '310',\n",
       " 'height': '310'}"
      ]
     },
     "execution_count": 18,
     "metadata": {},
     "output_type": "execute_result"
    }
   ],
   "source": [
    "imgs[0].attrs"
   ]
  },
  {
   "cell_type": "code",
   "execution_count": 19,
   "metadata": {},
   "outputs": [
    {
     "data": {
      "text/plain": [
       "'https://assets.passiton.com/quotes/quote_artwork/6345/medium/20220325_friday_quote.jpg?1647621314'"
      ]
     },
     "execution_count": 19,
     "metadata": {},
     "output_type": "execute_result"
    }
   ],
   "source": [
    "# This(src) will give you the url of the first image :\n",
    "url_img1= imgs[0].attrs['src']\n",
    "url_img1"
   ]
  },
  {
   "cell_type": "code",
   "execution_count": 20,
   "metadata": {},
   "outputs": [],
   "source": [
    "res_img1 = requests.get(url_img1)"
   ]
  },
  {
   "cell_type": "code",
   "execution_count": 21,
   "metadata": {},
   "outputs": [],
   "source": [
    "img_content = res_img1.content"
   ]
  },
  {
   "cell_type": "code",
   "execution_count": 23,
   "metadata": {},
   "outputs": [],
   "source": [
    "with open(\"quote1.jpg\", 'wb') as f:\n",
    "    f.write(img_content)"
   ]
  },
  {
   "cell_type": "code",
   "execution_count": 24,
   "metadata": {},
   "outputs": [],
   "source": [
    "#Now you can See the image named quote1.jpg in the folder."
   ]
  },
  {
   "cell_type": "markdown",
   "metadata": {},
   "source": [
    "### Scraping all other Quote images from multiple pages :"
   ]
  },
  {
   "cell_type": "code",
   "execution_count": 28,
   "metadata": {},
   "outputs": [
    {
     "name": "stdout",
     "output_type": "stream",
     "text": [
      "32 apple\n",
      "33 mango\n",
      "34 banana\n",
      "35 grapes\n"
     ]
    }
   ],
   "source": [
    "lst = [\"apple\", \"mango\", \"banana\", \"grapes\"]\n",
    "for idx,ele in enumerate(lst,32):\n",
    "    print(idx, ele)"
   ]
  },
  {
   "cell_type": "code",
   "execution_count": 30,
   "metadata": {},
   "outputs": [
    {
     "data": {
      "text/plain": [
       "'quote23'"
      ]
     },
     "execution_count": 30,
     "metadata": {},
     "output_type": "execute_result"
    }
   ],
   "source": [
    "#Example to understand :\n",
    "i = 23\n",
    "\"quote{i}\".format(i=i)"
   ]
  },
  {
   "cell_type": "code",
   "execution_count": 32,
   "metadata": {},
   "outputs": [
    {
     "data": {
      "text/plain": [
       "'quote34'"
      ]
     },
     "execution_count": 32,
     "metadata": {},
     "output_type": "execute_result"
    }
   ],
   "source": [
    "# Format is a good method but you can also use fstring method as explained below:\n",
    "i =34\n",
    "f\"quote{i}\""
   ]
  },
  {
   "cell_type": "code",
   "execution_count": 39,
   "metadata": {},
   "outputs": [],
   "source": [
    "# If you will run this below, code you will get the error because of not introducing idx variale while beginning of the loop :\n",
    "# for i in enumerate(imgs):\n",
    "#     #print(i.attrs['src'])\n",
    "#     img_url = i.attrs['src']\n",
    "    \n",
    "#     res = requests.get(img_url)\n",
    "#     img_content = res.content\n",
    "    \n",
    "#     # Notice the way to create a folder named 'images'.\n",
    "#     with open(f\"images/quote_{idx}.jpg\", 'wb') as f:\n",
    "#         f.write(img_content)\n",
    "#     # This will save the images quote everytime with the same ame so \n",
    "#     # finally, onnly last image will be saved with name quote.jpg\n",
    "#     # So, for different names , we use \"enumeration\"\n",
    "    "
   ]
  },
  {
   "cell_type": "code",
   "execution_count": 40,
   "metadata": {},
   "outputs": [],
   "source": [
    "for idx,i in enumerate(imgs):\n",
    "    # print(i.attrs['src'])\n",
    "    img_url = i.attrs['src']\n",
    "    \n",
    "    res = requests.get(img_url)\n",
    "    img_content = res.content\n",
    "    \n",
    "    # Notice the way to save images in a folder named 'images', but before this, you need to create theat folder named 'images' :\n",
    "    with open(f\"images/quote_{idx}.jpg\", 'wb') as f:\n",
    "        f.write(img_content)\n",
    "    # This will save the images quote everytime with the same ame so \n",
    "    # finally, onnly last image will be saved with name quote.jpg\n",
    "    # So, for different names , we use \"enumeration\"\n",
    "    "
   ]
  },
  {
   "cell_type": "markdown",
   "metadata": {},
   "source": [
    "For scraping images from next pages, then use different url and just change the range of enumerate arguments such that the new images should not replace previous images and at the end nothing matters."
   ]
  },
  {
   "cell_type": "code",
   "execution_count": null,
   "metadata": {},
   "outputs": [],
   "source": []
  }
 ],
 "metadata": {
  "interpreter": {
   "hash": "2be5faf79681da6f2a61fdfdd5405d65d042280f7fba6178067603e3a2925119"
  },
  "kernelspec": {
   "display_name": "Python 3.10.0 64-bit",
   "language": "python",
   "name": "python3"
  },
  "language_info": {
   "codemirror_mode": {
    "name": "ipython",
    "version": 3
   },
   "file_extension": ".py",
   "mimetype": "text/x-python",
   "name": "python",
   "nbconvert_exporter": "python",
   "pygments_lexer": "ipython3",
   "version": "3.10.0"
  },
  "orig_nbformat": 4
 },
 "nbformat": 4,
 "nbformat_minor": 2
}
